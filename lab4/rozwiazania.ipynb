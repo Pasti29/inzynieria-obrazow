{
 "cells": [
  {
   "cell_type": "code",
   "execution_count": 1,
   "metadata": {},
   "outputs": [],
   "source": [
    "import cv2\n",
    "from matplotlib import pyplot\n",
    "import numpy\n",
    "from scipy.fftpack import dct\n",
    "from scipy.fftpack import idct\n",
    "import struct\n",
    "import zlib\n",
    "\n",
    "pyplot.rcParams[\"figure.figsize\"] = (15, 3)"
   ]
  },
  {
   "cell_type": "markdown",
   "metadata": {},
   "source": [
    "# Zadanie 1"
   ]
  },
  {
   "cell_type": "code",
   "execution_count": 2,
   "metadata": {},
   "outputs": [],
   "source": [
    "#\n",
    "# PPM file header\n",
    "#\n",
    "ppm_ascii_header = 'P3 3 1 255 '\n",
    "ppm_binary_header = 'P6 3 1 255 '\n",
    "\n",
    "#\n",
    "# Image data\n",
    "#\n",
    "image = numpy.array([[0, 0, 255, 0, 0, 255, 0, 0, 255]], dtype=numpy.uint8)\n",
    "\n",
    "#\n",
    "# Save the PPM image as an ASCII file\n",
    "#\n",
    "with open('images/lab4-ascii.ppm', 'w') as fh:\n",
    "    fh.write(ppm_ascii_header)\n",
    "    image.tofile(fh, sep=' ')\n",
    "    fh.write('\\n')\n",
    "\n",
    "#\n",
    "# Save the PPM image as a binary file\n",
    "#\n",
    "with open('images/lab4-binary.ppm', 'wb') as fh:\n",
    "    fh.write(bytearray(ppm_binary_header, 'ascii'))\n",
    "    image.tofile(fh)"
   ]
  },
  {
   "cell_type": "code",
   "execution_count": 3,
   "metadata": {},
   "outputs": [
    {
     "data": {
      "text/plain": [
       "<matplotlib.image.AxesImage at 0x7f955e9dd5a0>"
      ]
     },
     "execution_count": 3,
     "metadata": {},
     "output_type": "execute_result"
    },
    {
     "data": {
      "image/png": "[encoded data removed]",
      "text/plain": [
       "<Figure size 1080x216 with 1 Axes>"
      ]
     },
     "metadata": {
      "needs_background": "light"
     },
     "output_type": "display_data"
    }
   ],
   "source": [
    "#\n",
    "# Display image\n",
    "#\n",
    "image_from_file = cv2.imread('images/lab4-ascii.ppm')\n",
    "pyplot.imshow(cv2.cvtColor(image_from_file, cv2.COLOR_BGR2RGB))"
   ]
  },
  {
   "cell_type": "code",
   "execution_count": 4,
   "metadata": {},
   "outputs": [
    {
     "data": {
      "text/plain": [
       "<matplotlib.image.AxesImage at 0x7f955c639540>"
      ]
     },
     "execution_count": 4,
     "metadata": {},
     "output_type": "execute_result"
    },
    {
     "data": {
      "image/png": "[encoded data removed]",
      "text/plain": [
       "<Figure size 1080x216 with 1 Axes>"
      ]
     },
     "metadata": {
      "needs_background": "light"
     },
     "output_type": "display_data"
    }
   ],
   "source": [
    "#\n",
    "# Display image\n",
    "#\n",
    "image_from_file = cv2.imread('images/lab4-binary.ppm')\n",
    "pyplot.imshow(cv2.cvtColor(image_from_file, cv2.COLOR_BGR2RGB))"
   ]
  },
  {
   "cell_type": "markdown",
   "metadata": {},
   "source": [
    "# Zadanie 2"
   ]
  },
  {
   "cell_type": "code",
   "execution_count": 49,
   "metadata": {},
   "outputs": [],
   "source": [
    "\n",
    "rainbow = []\n",
    "\n",
    "rainbow.extend([[0, 0, i] for i in range(255)])\n",
    "rainbow.extend([[0, i, 255] for i in range(255)])\n",
    "rainbow.extend([[0, 255, 255 - i] for i in range(255)])\n",
    "rainbow.extend([[i, 255, 0] for i in range(255)])\n",
    "rainbow.extend([[255, 255 - i, 0] for i in range(255)])\n",
    "rainbow.extend([[255, 0, i] for i in range(255)])\n",
    "rainbow.extend([[255, i, 255] for i in range(256)])\n",
    "\n",
    "height = 60\n",
    "width = len(rainbow)\n",
    "\n",
    "header = f'P6 {width} {height} 255 '\n",
    "\n",
    "data = rainbow * height\n",
    "data = [data]\n",
    "\n",
    "array = numpy.asarray(data, dtype=numpy.uint8)\n",
    "\n",
    "with open('images/lab4-rainbow.ppm', 'wb') as fh:\n",
    "    fh.write(bytearray(header, 'ascii'))\n",
    "    array.tofile(fh)\n"
   ]
  },
  {
   "cell_type": "code",
   "execution_count": 50,
   "metadata": {},
   "outputs": [
    {
     "data": {
      "text/plain": [
       "<matplotlib.image.AxesImage at 0x7f54fd05e6b0>"
      ]
     },
     "execution_count": 50,
     "metadata": {},
     "output_type": "execute_result"
    },
    {
     "data": {
      "image/png": "[encoded data removed]",
      "text/plain": [
       "<Figure size 1080x216 with 1 Axes>"
      ]
     },
     "metadata": {
      "needs_background": "light"
     },
     "output_type": "display_data"
    }
   ],
   "source": [
    "#\n",
    "# Display image\n",
    "#\n",
    "image_from_file = cv2.imread('images/lab4-rainbow.ppm')\n",
    "pyplot.imshow(cv2.cvtColor(image_from_file, cv2.COLOR_BGR2RGB))"
   ]
  },
  {
   "cell_type": "markdown",
   "metadata": {},
   "source": [
    "# Zadanie 3"
   ]
  },
  {
   "cell_type": "code",
   "execution_count": 51,
   "metadata": {},
   "outputs": [],
   "source": [
    "def save_as_png(image, file_name):\n",
    "    #\n",
    "    # Construct signature\n",
    "    #\n",
    "    png_file_signature = b'\\x89PNG\\r\\n\\x1a\\n'\n",
    "\n",
    "    #\n",
    "    # Construct header\n",
    "    #\n",
    "\n",
    "    header_id = b'IHDR'\n",
    "    header_content = struct.pack('!IIBBBBB', image.shape[1], image.shape[0], 8, 2, 0, 0, 0)\n",
    "    header_size = struct.pack('!I', len(header_content))\n",
    "    header_crc = struct.pack('!I', zlib.crc32(header_id + header_content))\n",
    "    png_file_header = header_size + header_id + header_content + header_crc\n",
    "    #\n",
    "    # Construct data\n",
    "    #\n",
    "    data_id = b'IDAT'\n",
    "    data_content = zlib.compress(b''.join([b'\\x00' + bytes(row) for row in image]))\n",
    "    data_size = struct.pack('!I', len(data_content))\n",
    "    data_crc = struct.pack('!I', zlib.crc32(data_id + data_content))\n",
    "    png_file_data = data_size + data_id + data_content + data_crc\n",
    "\n",
    "    #\n",
    "    # Construct end\n",
    "    #\n",
    "    end_id = b'IEND'\n",
    "    end_content = b''\n",
    "    end_size = struct.pack('!I', len(end_content))\n",
    "    end_crc = struct.pack('!I', zlib.crc32(end_id + end_content))\n",
    "    png_file_end = end_size + end_id + end_content + end_crc\n",
    "\n",
    "    #\n",
    "    # Save the PNG image as a binary file\n",
    "    #\n",
    "    with open(file_name, 'wb') as fh:\n",
    "        fh.write(png_file_signature)\n",
    "        fh.write(png_file_header)\n",
    "        fh.write(png_file_data)\n",
    "        fh.write(png_file_end)\n",
    "\n",
    "#\n",
    "# Image data\n",
    "#\n",
    "\n",
    "rainbow_array = numpy.asarray(rainbow).reshape(len(rainbow), 3)\n",
    "\n",
    "\n",
    "array_zad3 = [rainbow_array] * height\n",
    "image = numpy.array(array_zad3,\n",
    "                    dtype=numpy.uint8)\n",
    "\n",
    "save_as_png(image, 'images/lab4.png')"
   ]
  },
  {
   "cell_type": "code",
   "execution_count": 52,
   "metadata": {},
   "outputs": [
    {
     "data": {
      "text/plain": [
       "<matplotlib.image.AxesImage at 0x7f54ea8c6110>"
      ]
     },
     "execution_count": 52,
     "metadata": {},
     "output_type": "execute_result"
    },
    {
     "data": {
      "image/png": "[encoded data removed]",
      "text/plain": [
       "<Figure size 1080x216 with 1 Axes>"
      ]
     },
     "metadata": {
      "needs_background": "light"
     },
     "output_type": "display_data"
    }
   ],
   "source": [
    "#\n",
    "# Display image\n",
    "#\n",
    "image_from_file = cv2.imread('images/lab4.png')\n",
    "pyplot.imshow(cv2.cvtColor(image_from_file, cv2.COLOR_BGR2RGB))"
   ]
  },
  {
   "cell_type": "markdown",
   "metadata": {},
   "source": [
    "# Funkcje pomocnicze do zadań 4 i 5"
   ]
  },
  {
   "cell_type": "code",
   "execution_count": 53,
   "metadata": {},
   "outputs": [],
   "source": [
    "#\n",
    "# 2d Discrete Cosinus Transform\n",
    "#\n",
    "def dct2(array):\n",
    "    return dct(dct(array, axis=0, norm='ortho'), axis=1, norm='ortho')\n",
    "\n",
    "\n",
    "def idct2(array):\n",
    "    return idct(idct(array, axis=0, norm='ortho'), axis=1, norm='ortho')\n",
    "\n",
    "\n",
    "#\n",
    "# Calculate quantisation matrices\n",
    "#\n",
    "# Based on: https://www.hdm-stuttgart.de/~maucher/Python/MMCodecs/html/jpegUpToQuant.html\n",
    "#           #step-3-and-4-discrete-cosinus-transform-and-quantisation\n",
    "#\n",
    "_QY = numpy.array([[16, 11, 10, 16, 24, 40, 51, 61],\n",
    "                   [12, 12, 14, 19, 26, 48, 60, 55],\n",
    "                   [14, 13, 16, 24, 40, 57, 69, 56],\n",
    "                   [14, 17, 22, 29, 51, 87, 80, 62],\n",
    "                   [18, 22, 37, 56, 68, 109, 103, 77],\n",
    "                   [24, 35, 55, 64, 81, 104, 113, 92],\n",
    "                   [49, 64, 78, 87, 103, 121, 120, 101],\n",
    "                   [72, 92, 95, 98, 112, 100, 103, 99]])\n",
    "\n",
    "_QC = numpy.array([[17, 18, 24, 47, 99, 99, 99, 99],\n",
    "                   [18, 21, 26, 66, 99, 99, 99, 99],\n",
    "                   [24, 26, 56, 99, 99, 99, 99, 99],\n",
    "                   [47, 66, 99, 99, 99, 99, 99, 99],\n",
    "                   [99, 99, 99, 99, 99, 99, 99, 99],\n",
    "                   [99, 99, 99, 99, 99, 99, 99, 99],\n",
    "                   [99, 99, 99, 99, 99, 99, 99, 99],\n",
    "                   [99, 99, 99, 99, 99, 99, 99, 99]])\n",
    "\n",
    "\n",
    "def _scale(QF):\n",
    "    if QF < 50 and QF >= 1:\n",
    "        scale = numpy.floor(5000 / QF)\n",
    "    elif QF < 100:\n",
    "        scale = 200 - 2 * QF\n",
    "    else:\n",
    "        raise ValueError('Quality Factor must be in the range [1..99]')\n",
    "\n",
    "    scale = scale / 100.0\n",
    "    return scale\n",
    "\n",
    "\n",
    "def QY(QF=85):\n",
    "    return _QY * _scale(QF)\n",
    "\n",
    "\n",
    "def QC(QF=85):\n",
    "    return _QC * _scale(QF)"
   ]
  },
  {
   "cell_type": "markdown",
   "metadata": {},
   "source": [
    "# Zadania 4 i 5"
   ]
  },
  {
   "cell_type": "code",
   "execution_count": 60,
   "metadata": {},
   "outputs": [],
   "source": [
    "import math\n",
    "\n",
    "#\n",
    "# 0. Image data\n",
    "#\n",
    "image_jpeg = image.copy()\n",
    "#\n",
    "# 1. Convert RGB to YCbCr\n",
    "#\n",
    "image_YCrCb = cv2.cvtColor(image_jpeg, cv2.COLOR_RGB2YCrCb)\n",
    "y_pad = 8 - (image.shape[0] % 8)\n",
    "x_pad = 8 - (image.shape[1] % 8)\n",
    "image_YCrCb = numpy.pad(\n",
    "    image_YCrCb, ((0, y_pad), (0, x_pad) ,(0, 0)), mode='constant')\n",
    "#\n",
    "# 2. Downsampling on Cb and Cr channels\n",
    "#\n",
    "matrix_Y = image_YCrCb[:, :, 0]\n",
    "matrix_Cr = image_YCrCb[:, :, 1]\n",
    "matrix_Cb = image_YCrCb[:, :, 2]\n",
    "\n",
    "matrix_Cr = matrix_Cr[::2, ::2]\n",
    "matrix_Cb = matrix_Cb[::2, ::2]\n",
    "#\n",
    "# 3. Produce 8x8 blocks\n",
    "#\n",
    "block_Y = []\n",
    "for i in range(0, matrix_Y.shape[0], 8):\n",
    "    for j in range(0, matrix_Y.shape[1], 8):\n",
    "        block_Y.append(matrix_Y[i:i + 8, j: j + 8])\n",
    "block_Cr = []\n",
    "block_Cb = []\n",
    "for i in range(0, matrix_Cr.shape[0], 8):\n",
    "    for j in range(0, matrix_Cr.shape[1], 8):\n",
    "        block_Cr.append(matrix_Cr[i:i + 8, j: j + 8])\n",
    "        block_Cb.append(matrix_Cb[i:i + 8, j: j + 8])\n",
    "# 4. Calculate DCT on each block\n",
    "#\n",
    "# TODO: implement (zad. 5)\n",
    "\n",
    "#\n",
    "# 5. Divide each block by quantisation matrix\n",
    "#\n",
    "# TODO: implement (zad. 5)\n",
    "\n",
    "#\n",
    "# 6. Round values in each block to integers\n",
    "#\n",
    "# TODO: implement (zad. 5)\n",
    "\n",
    "#\n",
    "# 7. Zig Zag\n",
    "#\n",
    "# TODO: implement (zad. 4)\n",
    "\n",
    "#\n",
    "# 8. Flatten, concatenate, compress and calculate the size -- how many bytes?\n",
    "#\n",
    "# TODO: implement (zad. 4)\n",
    "\n",
    "#\n",
    "# 7'. Undo Zig Zag\n",
    "#\n",
    "# We can skip it in this exercise! We did Zig Zag only for analysis in step 8.\n",
    "# You can continue with result from step 6. instead of implementing undo here.\n",
    "#\n",
    "\n",
    "#\n",
    "# 6'. Nothing to do here   ¯\\_(ツ)_/¯\n",
    "#\n",
    "# No conversion is really needed here, just proceed to the next step.\n",
    "#\n",
    "\n",
    "#\n",
    "# 5'. Reverse division by quantisation matrix -- multiply\n",
    "#\n",
    "# TODO: implement (zad. 5)\n",
    "\n",
    "#\n",
    "# 4'. Reverse DCT\n",
    "#\n",
    "# TODO: implement (zad. 5)\n",
    "\n",
    "#\n",
    "# 3'. Combine 8x8 blocks to original image\n",
    "#\n",
    "step_Y = int(matrix_Y.shape[1] / 8)\n",
    "rows = []\n",
    "for i in range(0, len(block_Y), step_Y):\n",
    "    rows.append(numpy.concatenate(block_Y[i:i + step_Y], axis=1))\n",
    "matrix_Y = numpy.concatenate(rows, axis=0)\n",
    "\n",
    "step_C = int(matrix_Cr.shape[1] / 8)\n",
    "rows_Cr = []\n",
    "rows_Cb = []\n",
    "for i in range(0, len(block_Cr), step_C):\n",
    "    rows_Cr.append(numpy.concatenate(block_Cr[i:i + step_C], axis=1))\n",
    "    rows_Cb.append(numpy.concatenate(block_Cb[i:i + step_C], axis=1))\n",
    "matrix_Cr = numpy.concatenate(rows_Cr, axis=0)\n",
    "matrix_Cb = numpy.concatenate(rows_Cb, axis=0)\n",
    "#\n",
    "# 2'. Upsampling on Cb and Cr channels\n",
    "#\n",
    "upsampled_Cr = numpy.empty((matrix_Cr.shape[0] * 2, matrix_Cr.shape[1] * 2), dtype=numpy.uint8)\n",
    "upsampled_Cb = numpy.empty((matrix_Cb.shape[0] * 2, matrix_Cb.shape[1] * 2), dtype=numpy.uint8)\n",
    "upsampled_Cr[::2, ::2] = matrix_Cr\n",
    "upsampled_Cr[::2, 1::2] = matrix_Cr\n",
    "upsampled_Cr[1::2, :] = upsampled_Cr[::2, :]\n",
    "upsampled_Cb[::2, ::2] = matrix_Cb\n",
    "upsampled_Cb[::2, 1::2] = matrix_Cb\n",
    "upsampled_Cb[1::2, :] = upsampled_Cb[::2, :]\n",
    "image_jpeg = numpy.empty((matrix_Y.shape[0], matrix_Y.shape[1], 3), dtype=numpy.uint8)\n",
    "image_jpeg[:, :, 0] = matrix_Y\n",
    "image_jpeg[:, :, 1] = upsampled_Cr\n",
    "image_jpeg[:, :, 2] = upsampled_Cb\n",
    "#\n",
    "# 1'. Convert YCbCr to RGB\n",
    "#\n",
    "image_jpeg = cv2.cvtColor(image_YCrCb, cv2.COLOR_YCrCb2RGB)\n",
    "#\n",
    "# 0'. Save the decoded image -- as PPM or PNG\n",
    "#\n",
    "save_as_png(image_jpeg, 'images/lab4-po-kompresji-i-dekompresji-jpeg.png')"
   ]
  },
  {
   "cell_type": "code",
   "execution_count": 61,
   "metadata": {},
   "outputs": [
    {
     "data": {
      "text/plain": [
       "<matplotlib.image.AxesImage at 0x7f54ea795e10>"
      ]
     },
     "execution_count": 61,
     "metadata": {},
     "output_type": "execute_result"
    },
    {
     "data": {
      "image/png": "[encoded data removed]",
      "text/plain": [
       "<Figure size 1080x216 with 1 Axes>"
      ]
     },
     "metadata": {
      "needs_background": "light"
     },
     "output_type": "display_data"
    }
   ],
   "source": [
    "#\n",
    "# Display image\n",
    "#\n",
    "image_from_file = cv2.imread('images/lab4-po-kompresji-i-dekompresji-jpeg.png')\n",
    "pyplot.imshow(cv2.cvtColor(image_from_file, cv2.COLOR_BGR2RGB))"
   ]
  },
  {
   "cell_type": "markdown",
   "metadata": {},
   "source": [
    "# Obserwacje z zadań 4 i 5"
   ]
  },
  {
   "cell_type": "code",
   "execution_count": null,
   "metadata": {},
   "outputs": [],
   "source": []
  }
 ],
 "metadata": {
  "kernelspec": {
   "display_name": "Python 3",
   "language": "python",
   "name": "python3"
  },
  "language_info": {
   "codemirror_mode": {
    "name": "ipython",
    "version": 3
   },
   "file_extension": ".py",
   "mimetype": "text/x-python",
   "name": "python",
   "nbconvert_exporter": "python",
   "pygments_lexer": "ipython3",
   "version": "3.10.2"
  }
 },
 "nbformat": 4,
 "nbformat_minor": 4
}
