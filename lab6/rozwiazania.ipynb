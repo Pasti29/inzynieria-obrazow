{
 "cells": [
  {
   "cell_type": "code",
   "execution_count": null,
   "metadata": {},
   "outputs": [],
   "source": [
    "import cv2\n",
    "from matplotlib import pyplot\n",
    "import numpy\n",
    "\n",
    "# Ustawienie rozmarów wyświetlanych obrazów\n",
    "pyplot.rcParams[\"figure.figsize\"] = (18, 10)"
   ]
  },
  {
   "cell_type": "code",
   "execution_count": null,
   "metadata": {},
   "outputs": [],
   "source": [
    "#\n",
    "# Wczytanie obrazów źródłowych\n",
    "#\n",
    "# źródło grafiki colors.jpg: https://unsplash.com/photos/gT5kuls6Y6Q\n",
    "# źródło grafiki gacław-na-kuchni.jpg: własne\n",
    "#\n",
    "#image_from_file = cv2.imread('images/colors.jpg')\n",
    "image_from_file = cv2.imread('images/gacław-na-kuchni.jpg')\n",
    "image_gray = cv2.cvtColor(image_from_file, cv2.COLOR_BGR2GRAY)\n",
    "image_color = cv2.cvtColor(image_from_file, cv2.COLOR_BGR2RGB)\n",
    "print('Rozmiar obrazka: ', image_from_file.shape)"
   ]
  },
  {
   "cell_type": "markdown",
   "metadata": {},
   "source": [
    "# Zadanie 1"
   ]
  },
  {
   "cell_type": "code",
   "execution_count": null,
   "metadata": {},
   "outputs": [],
   "source": [
    "output = numpy.copy(image_gray)\n",
    "\n",
    "#\n",
    "# Algorytm\n",
    "#\n",
    "for y in range(output.shape[0]):\n",
    "    for x in range(output.shape[1]):\n",
    "        pass  # TODO: implement\n",
    "\n",
    "#\n",
    "# Wyświetlenie\n",
    "#\n",
    "pyplot.imshow(output, cmap='gray')"
   ]
  },
  {
   "cell_type": "code",
   "execution_count": null,
   "metadata": {},
   "outputs": [],
   "source": [
    "#\n",
    "# Histogram\n",
    "#\n",
    "histr = cv2.calcHist([output], [0], None, [256], [0, 256])\n",
    "pyplot.plot(histr)\n",
    "pyplot.xlim([-1, 256])\n",
    "pyplot.xlabel('Wartośc składowej koloru []')\n",
    "pyplot.ylabel('Liczba pikseli obrazu []')"
   ]
  },
  {
   "cell_type": "markdown",
   "metadata": {},
   "source": [
    "# Zadanie 2"
   ]
  },
  {
   "cell_type": "code",
   "execution_count": null,
   "metadata": {},
   "outputs": [],
   "source": [
    "output = numpy.copy(image_color)\n",
    "\n",
    "#\n",
    "# Algorytm\n",
    "#\n",
    "for y in range(output.shape[0]):\n",
    "    for x in range(output.shape[1]):\n",
    "        pass  # TODO: implement\n",
    "\n",
    "#\n",
    "# Wyświetlenie\n",
    "#\n",
    "pyplot.imshow(output)"
   ]
  },
  {
   "cell_type": "code",
   "execution_count": null,
   "metadata": {},
   "outputs": [],
   "source": [
    "#\n",
    "# Histogram\n",
    "#\n",
    "color = ('r', 'g', 'b')\n",
    "\n",
    "for i, col in enumerate(color):\n",
    "    histr = cv2.calcHist([output], [i], None, [256], [0, 256])\n",
    "    pyplot.plot(histr, color=col)\n",
    "    pyplot.xlim([-1, 256])\n",
    "    pyplot.xlabel('Wartośc składowej koloru []')\n",
    "    pyplot.ylabel('Liczba pikseli obrazu []')"
   ]
  },
  {
   "cell_type": "markdown",
   "metadata": {},
   "source": [
    "# Zadanie 3"
   ]
  },
  {
   "cell_type": "code",
   "execution_count": null,
   "metadata": {},
   "outputs": [],
   "source": [
    "#\n",
    "# Przygotowanie płótna\n",
    "#\n",
    "width = 80\n",
    "height = 60\n",
    "image = numpy.zeros((height, width, 3), dtype=numpy.uint8)\n",
    "\n",
    "\n",
    "#\n",
    "# Funkcja rysująca punkt\n",
    "#\n",
    "# NOTE(sdatko): punkt 0,0 to lewy dolny róg obrazu\n",
    "#\n",
    "def draw_point(image, x, y, color=(255, 255, 255)):\n",
    "    image[image.shape[0] - 1 - y, x, :] = color\n",
    "\n",
    "\n",
    "#\n",
    "# Funkcja rysująca linię\n",
    "#\n",
    "def draw_line(image, x1, y1, x2, y2):\n",
    "    pass  # TODO: implement\n",
    "\n",
    "\n",
    "#\n",
    "# Funkcja rysująca trójkąt\n",
    "#\n",
    "def draw_triangle(image, a, b, c):\n",
    "    pass  # TODO: implement\n",
    "\n",
    "\n",
    "#\n",
    "# Rysowanie\n",
    "#\n",
    "pass  # TODO: implement\n",
    "\n",
    "#\n",
    "# Wyświetlenie\n",
    "#\n",
    "pyplot.imshow(image)"
   ]
  },
  {
   "cell_type": "markdown",
   "metadata": {},
   "source": [
    "# Zadanie 4"
   ]
  },
  {
   "cell_type": "code",
   "execution_count": null,
   "metadata": {},
   "outputs": [],
   "source": [
    "#\n",
    "# Przygotowanie płótna\n",
    "#\n",
    "width = 80\n",
    "height = 60\n",
    "image = numpy.zeros((height, width, 3), dtype=numpy.uint8)\n",
    "\n",
    "\n",
    "#\n",
    "# Funkcja rysująca punkt\n",
    "#\n",
    "# NOTE(sdatko): punkt 0,0 to lewy dolny róg obrazu\n",
    "#\n",
    "def draw_point(image, x, y, color=(255, 255, 255)):\n",
    "    image[image.shape[0] - 1 - y, x, :] = color\n",
    "\n",
    "\n",
    "#\n",
    "# Funkcja rysująca linię\n",
    "#\n",
    "def draw_line(image, x1, y1, x2, y2):\n",
    "    pass  # TODO: implement\n",
    "\n",
    "\n",
    "#\n",
    "# Funkcja rysująca trójkąt\n",
    "#\n",
    "def draw_triangle(image, a, b, c):\n",
    "    pass  # TODO: implement\n",
    "\n",
    "\n",
    "#\n",
    "# Rysowanie\n",
    "#\n",
    "pass  # TODO: implement\n",
    "\n",
    "#\n",
    "# Wyświetlenie\n",
    "#\n",
    "pyplot.imshow(image)"
   ]
  },
  {
   "cell_type": "markdown",
   "metadata": {},
   "source": [
    "# Zadanie 5"
   ]
  },
  {
   "cell_type": "code",
   "execution_count": null,
   "metadata": {},
   "outputs": [],
   "source": [
    "#\n",
    "# Przygotowanie płótna\n",
    "#\n",
    "width = 80\n",
    "height = 60\n",
    "image = numpy.zeros((height, width, 3), dtype=numpy.uint8)\n",
    "\n",
    "\n",
    "#\n",
    "# Funkcja rysująca punkt\n",
    "#\n",
    "# NOTE(sdatko): punkt 0,0 to lewy dolny róg obrazu\n",
    "#\n",
    "def draw_point(image, x, y, color=(255, 255, 255)):\n",
    "    image[image.shape[0] - 1 - y, x, :] = color\n",
    "\n",
    "\n",
    "#\n",
    "# Funkcja rysująca linię\n",
    "#\n",
    "def draw_line(image, x1, y1, x2, y2):\n",
    "    pass  # TODO: implement\n",
    "\n",
    "\n",
    "#\n",
    "# Funkcja rysująca trójkąt\n",
    "#\n",
    "def draw_triangle(image, a, b, c):\n",
    "    pass  # TODO: implement\n",
    "\n",
    "\n",
    "#\n",
    "# Rysowanie\n",
    "#\n",
    "pass  # TODO: implement\n",
    "\n",
    "#\n",
    "# Wyświetlenie\n",
    "#\n",
    "pyplot.imshow(image)"
   ]
  }
 ],
 "metadata": {
  "kernelspec": {
   "display_name": "Python 3",
   "language": "python",
   "name": "python3"
  },
  "language_info": {
   "codemirror_mode": {
    "name": "ipython",
    "version": 3
   },
   "file_extension": ".py",
   "mimetype": "text/x-python",
   "name": "python",
   "nbconvert_exporter": "python",
   "pygments_lexer": "ipython3",
   "version": "3.9.4"
  }
 },
 "nbformat": 4,
 "nbformat_minor": 4
}
